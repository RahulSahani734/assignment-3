{
 "cells": [
  {
   "cell_type": "markdown",
   "id": "49296a18-afd5-4fc2-9946-d231cedb0295",
   "metadata": {},
   "source": [
    "Answer = 1 "
   ]
  },
  {
   "cell_type": "code",
   "execution_count": null,
   "id": "ac31fd72-395e-4831-8802-5179876637f5",
   "metadata": {},
   "outputs": [],
   "source": [
    "In object-oriented programming, a class is a blueprint or template for creating\n",
    "objects. It is a user-defined data type that holds its own data members and\n",
    "member functions, which can be accessed and used by creating an instance of \n",
    "that class. It is the blueprint of any object. Once we have written a class \n",
    "and defined it, we can use it to create as many objects based on that class as\n",
    "we want. For example, consider the Class of Accounts. There may be many\n",
    "accounts with different names and types, but all of them will share some common \n",
    "properties, as all of them will have some common attributes like balance, \n",
    "account holder name, etc. So here, the Account is the class. An object is an\n",
    "instance of a class. All data members and member functions of the class can be\n",
    "accessed with the help of objects. When a class is defined, no memory is\n",
    "allocated, but memory is allocated when it is instantiated (i.e. an object is \n",
    "created). Here is a 1 link to a detailed article on classes and objects in \n",
    "Python."
   ]
  },
  {
   "cell_type": "code",
   "execution_count": 1,
   "id": "239b435a-2322-4dbb-9a05-58a28987032c",
   "metadata": {},
   "outputs": [],
   "source": [
    "class class_1:\n",
    "    def show(self):\n",
    "        print(\" show of calss 1\")\n",
    "    def show_1(self):\n",
    "        print(\" show1 of class 1\" )\n",
    "class class_2:\n",
    "    def display(self):\n",
    "        print(\"display of class_2\")\n",
    "    def display_1(self):\n",
    "        print(\"display_1 of class_2\")"
   ]
  },
  {
   "cell_type": "code",
   "execution_count": 3,
   "id": "92b87a5a-f1bc-4f57-9727-14d248cc0c55",
   "metadata": {},
   "outputs": [],
   "source": [
    "c1 = class_1()\n",
    "c2 = class_2()"
   ]
  },
  {
   "cell_type": "code",
   "execution_count": 4,
   "id": "dcef67b4-cc8b-4cb4-952f-c384b4489d42",
   "metadata": {},
   "outputs": [
    {
     "name": "stdout",
     "output_type": "stream",
     "text": [
      " show of calss 1\n"
     ]
    }
   ],
   "source": [
    "c1.show()"
   ]
  },
  {
   "cell_type": "code",
   "execution_count": 5,
   "id": "4a374b86-c10c-4555-b602-ae01aae01b22",
   "metadata": {},
   "outputs": [
    {
     "name": "stdout",
     "output_type": "stream",
     "text": [
      "display_1 of class_2\n"
     ]
    }
   ],
   "source": [
    "c2.display_1()"
   ]
  },
  {
   "cell_type": "code",
   "execution_count": null,
   "id": "2ca86a37-9a6d-4667-9902-acf58a8a5a91",
   "metadata": {},
   "outputs": [],
   "source": []
  },
  {
   "cell_type": "markdown",
   "id": "f0d3d60f-bac2-42fb-b294-982b35af484f",
   "metadata": {},
   "source": [
    "Answer = 2"
   ]
  },
  {
   "cell_type": "code",
   "execution_count": null,
   "id": "cfde2688-a854-4bd5-9558-3f1524b45d4f",
   "metadata": {},
   "outputs": [],
   "source": [
    "The four pillars of OOPs are:\n",
    "\n",
    "Abstraction\n",
    "Encapsulation\n",
    "Inheritance\n",
    "Polymorphism"
   ]
  },
  {
   "cell_type": "code",
   "execution_count": null,
   "id": "5dc59bfa-78bb-47ca-b81d-f4b88a309cb9",
   "metadata": {},
   "outputs": [],
   "source": []
  },
  {
   "cell_type": "markdown",
   "id": "c7d47ce4-a57c-4a16-b446-8d75eb06455c",
   "metadata": {},
   "source": [
    "Answer = 3"
   ]
  },
  {
   "cell_type": "code",
   "execution_count": null,
   "id": "167ffb76-49b2-4b77-9e3b-f4bd41c32db0",
   "metadata": {},
   "outputs": [],
   "source": [
    "In Python, the __init__() function is a special method known as the constructor.\n",
    "It is automatically called when a new instance (object) of a class is created.\n",
    "The __init__() method lets the class initialize the object’s attributes and \n",
    "serves no other purpose. It is only used within classes 12345.\n",
    "\n",
    "The __init__() function is used to initialize the state of an object.\n",
    "Meaning, it is a place where we can set the attributes of an object.\n",
    "We can also pass arguments to __init__() function, so that each object when \n",
    "created, can be created as unique. Here is an example:"
   ]
  },
  {
   "cell_type": "code",
   "execution_count": 1,
   "id": "e5feb0e6-eebc-48c0-80a4-40b3343f196f",
   "metadata": {},
   "outputs": [],
   "source": [
    "class pwskills:\n",
    "    def __init__(self, course_name):\n",
    "        self.course_name = course_name\n",
    "    "
   ]
  },
  {
   "cell_type": "code",
   "execution_count": 4,
   "id": "7aae2c18-839e-480a-a1c8-aece78c57535",
   "metadata": {},
   "outputs": [],
   "source": [
    "ds = pwskills(\"data_science\")"
   ]
  },
  {
   "cell_type": "code",
   "execution_count": 5,
   "id": "6570c931-9506-4073-abf7-66ae738810c8",
   "metadata": {},
   "outputs": [
    {
     "data": {
      "text/plain": [
       "'data_science'"
      ]
     },
     "execution_count": 5,
     "metadata": {},
     "output_type": "execute_result"
    }
   ],
   "source": [
    "ds.course_name"
   ]
  },
  {
   "cell_type": "code",
   "execution_count": null,
   "id": "7c733ded-a8dd-4747-a49e-550ab498147a",
   "metadata": {},
   "outputs": [],
   "source": []
  },
  {
   "cell_type": "markdown",
   "id": "f3cd5b1a-fb4c-40f9-90bf-969aa6d575d5",
   "metadata": {},
   "source": [
    "Answer = 4"
   ]
  },
  {
   "cell_type": "code",
   "execution_count": null,
   "id": "8ba1e0d2-d83e-4e51-a9ae-896b15b1c31b",
   "metadata": {},
   "outputs": [],
   "source": [
    "In Python, self is used to represent the instance of a class. It is a reference\n",
    "to the object that is being created. By using self, we can access the attributes\n",
    "and methods of the class in Python. It binds the attributes with the given \n",
    "arguments. The reason you need to use self is because Python does not use the\n",
    "@ syntax to refer to instance attributes. Python decided to do methods in a way\n",
    "that makes the instance to which the method belongs be passed automatically,\n",
    "but not received automatically: the first parameter of methods is the instance\n",
    "the method is called on. When working with classes in Python, the term “self” \n",
    "refers to the instance of the class that is currently being used. It is customary\n",
    "to use “self” as the first parameter in instance methods of a class. Whenever \n",
    "you call a method of an object created from a class, the object is automatically\n",
    "passed as the first argument using the “self” parameter. This enables you to modify\n",
    "the object’s properties and execute tasks unique to that particular instance. \n",
    "Here is a 1 link to a detailed article on self in Python."
   ]
  },
  {
   "cell_type": "code",
   "execution_count": null,
   "id": "e08f2ac8-453a-4ded-9561-089b83e94cfa",
   "metadata": {},
   "outputs": [],
   "source": []
  },
  {
   "cell_type": "code",
   "execution_count": 7,
   "id": "c85494cc-3b6e-4408-879d-201d549739a7",
   "metadata": {},
   "outputs": [],
   "source": [
    "Answer = 5"
   ]
  },
  {
   "cell_type": "code",
   "execution_count": null,
   "id": "04138e69-51d2-4956-9439-1587ed372458",
   "metadata": {},
   "outputs": [],
   "source": [
    "In object-oriented programming, inheritance is a mechanism that allows \n",
    "a class to inherit properties and behaviors from another class."
   ]
  },
  {
   "cell_type": "code",
   "execution_count": null,
   "id": "40a32bd3-5067-4d61-b857-0e531b527c5e",
   "metadata": {},
   "outputs": [],
   "source": [
    "There are five types of inheritance in OOP:"
   ]
  },
  {
   "cell_type": "code",
   "execution_count": null,
   "id": "a98f934a-c21c-4a52-8d39-18ec1956db0f",
   "metadata": {},
   "outputs": [],
   "source": [
    "Single Inheritance: In single inheritance, a subclass is derived from only one\n",
    "superclass. It inherits the properties and methods of the superclass.\n",
    "For example"
   ]
  },
  {
   "cell_type": "code",
   "execution_count": 8,
   "id": "bb6368dc-21d7-4bc3-8eee-7233a134907b",
   "metadata": {},
   "outputs": [],
   "source": [
    "class a:\n",
    "    def show(self):\n",
    "        print(\"class a\")\n",
    "class b(a):\n",
    "    def show1(self):\n",
    "        print(\"class b\")\n",
    "        "
   ]
  },
  {
   "cell_type": "code",
   "execution_count": 9,
   "id": "e8c12a7c-deed-497f-a1ba-0e19318461f3",
   "metadata": {},
   "outputs": [],
   "source": [
    "bb = b()"
   ]
  },
  {
   "cell_type": "code",
   "execution_count": 10,
   "id": "6e9e5880-70d4-4139-852d-8983efaeea12",
   "metadata": {},
   "outputs": [
    {
     "name": "stdout",
     "output_type": "stream",
     "text": [
      "class b\n"
     ]
    }
   ],
   "source": [
    "bb.show()"
   ]
  },
  {
   "cell_type": "code",
   "execution_count": null,
   "id": "1ce49782-6d12-43a3-85a0-79e71b4c02ac",
   "metadata": {},
   "outputs": [],
   "source": [
    "Multilevel Inheritance: In multilevel inheritance, a class is derived from a\n",
    "class which is also derived from another class. It is a chain of inheritance.\n",
    "For example, consider a class Vehicle that has a method drive()"
   ]
  },
  {
   "cell_type": "code",
   "execution_count": 15,
   "id": "9d25b9af-7f27-44b2-9a8a-b8bf723e2e9a",
   "metadata": {},
   "outputs": [],
   "source": [
    "class a:\n",
    "    def show(self):\n",
    "        print(\"class a\")\n",
    "class b(a):\n",
    "    def show1(self):\n",
    "        print(\"class b\")\n",
    "class c(b):\n",
    "    def show2(self):\n",
    "        print(\"class c\")\n",
    "    "
   ]
  },
  {
   "cell_type": "code",
   "execution_count": 16,
   "id": "979d435c-bfe8-4272-8343-fd0d9eb65a7c",
   "metadata": {},
   "outputs": [],
   "source": [
    "cc= c()"
   ]
  },
  {
   "cell_type": "code",
   "execution_count": 17,
   "id": "a4bba8c2-b00d-425c-b7bc-7db1771197f9",
   "metadata": {},
   "outputs": [
    {
     "name": "stdout",
     "output_type": "stream",
     "text": [
      "class a\n"
     ]
    }
   ],
   "source": [
    "cc.show()"
   ]
  },
  {
   "cell_type": "code",
   "execution_count": null,
   "id": "ea65ce87-572e-41b2-ad3e-08e07a1270f3",
   "metadata": {},
   "outputs": [],
   "source": [
    "Multiple Inheritance: In multiple inheritance, a class is derived from more\n",
    "than one base class. It inherits the properties and methods of all the base \n",
    "classes. For example"
   ]
  },
  {
   "cell_type": "code",
   "execution_count": 18,
   "id": "195aa311-a84e-44bb-a26b-5b286c75a277",
   "metadata": {},
   "outputs": [],
   "source": [
    "class a:\n",
    "    def show(self):\n",
    "        print(\"class a\")\n",
    "class b:\n",
    "    def show1(self):\n",
    "        print(\"class b\")\n",
    "class c(a,b):\n",
    "    def show2(self):\n",
    "        print(\"class c\")\n",
    "    "
   ]
  },
  {
   "cell_type": "code",
   "execution_count": 19,
   "id": "fa3ec47e-68d3-4c56-a596-7d73a9cf3e71",
   "metadata": {},
   "outputs": [],
   "source": [
    "cc = c()"
   ]
  },
  {
   "cell_type": "code",
   "execution_count": 20,
   "id": "144a3b6f-b7d3-409a-9c2d-23828d3389cb",
   "metadata": {},
   "outputs": [
    {
     "name": "stdout",
     "output_type": "stream",
     "text": [
      "class a\n"
     ]
    }
   ],
   "source": [
    "cc.show()"
   ]
  },
  {
   "cell_type": "code",
   "execution_count": null,
   "id": "77864982-c7e1-4885-90f7-aa3fd55dda72",
   "metadata": {},
   "outputs": [],
   "source": [
    "Hierarchical Inheritance: In hierarchical inheritance, more than one subclass is derived from a single superclass. It is a process of creating a new class from an existing class.\n",
    "For example"
   ]
  },
  {
   "cell_type": "code",
   "execution_count": 21,
   "id": "8ec8c62f-84a8-4eec-8a32-718f8f766f57",
   "metadata": {},
   "outputs": [],
   "source": [
    "class a:\n",
    "    def show(self):\n",
    "        print(\"class a\")\n",
    "class b(a):\n",
    "    def show1(self):\n",
    "        print(\"class b\")\n",
    "class c(a):\n",
    "    def show2(self):\n",
    "        print(\"class c\")"
   ]
  },
  {
   "cell_type": "code",
   "execution_count": 22,
   "id": "2a723e15-c02f-4b8e-8e04-ad44c0fb1a71",
   "metadata": {},
   "outputs": [],
   "source": [
    "xx = c()"
   ]
  },
  {
   "cell_type": "code",
   "execution_count": 23,
   "id": "b92b90ba-908b-46f4-ba6f-3f8407919fa1",
   "metadata": {},
   "outputs": [
    {
     "name": "stdout",
     "output_type": "stream",
     "text": [
      "class a\n"
     ]
    }
   ],
   "source": [
    "xx.show()"
   ]
  },
  {
   "cell_type": "code",
   "execution_count": null,
   "id": "4d1a311d-c353-46c4-bf59-e70e88b34d34",
   "metadata": {},
   "outputs": [],
   "source": [
    "Hybrid Inheritance: Hybrid inheritance is a combination of two or more types\n",
    "of inheritance. For example,"
   ]
  },
  {
   "cell_type": "code",
   "execution_count": 24,
   "id": "cb8084b0-4619-42a6-85bc-b4b2b29a8a8f",
   "metadata": {},
   "outputs": [],
   "source": [
    "class a:\n",
    "    def show(self):\n",
    "        print(\"class a\")\n",
    "class b(a):\n",
    "    def show1(self):\n",
    "        print(\"class b\")\n",
    "class c(a):\n",
    "    def show2(self):\n",
    "        print(\"class c\")\n",
    "class d(b,c):\n",
    "    def show3(self):\n",
    "        print(\"class a\")\n",
    "     \n"
   ]
  },
  {
   "cell_type": "code",
   "execution_count": 26,
   "id": "92ba0546-1c1d-4c92-9835-2a3029b4f3c0",
   "metadata": {},
   "outputs": [],
   "source": [
    "dd = d()"
   ]
  },
  {
   "cell_type": "code",
   "execution_count": 27,
   "id": "fe72d9ce-ab62-4d0c-b4d3-a7d3619e959d",
   "metadata": {},
   "outputs": [
    {
     "name": "stdout",
     "output_type": "stream",
     "text": [
      "class a\n"
     ]
    }
   ],
   "source": [
    "dd.show()"
   ]
  },
  {
   "cell_type": "code",
   "execution_count": null,
   "id": "01342114-6236-4eb2-8cd3-6596585d24a3",
   "metadata": {},
   "outputs": [],
   "source": []
  }
 ],
 "metadata": {
  "kernelspec": {
   "display_name": "Python 3 (ipykernel)",
   "language": "python",
   "name": "python3"
  },
  "language_info": {
   "codemirror_mode": {
    "name": "ipython",
    "version": 3
   },
   "file_extension": ".py",
   "mimetype": "text/x-python",
   "name": "python",
   "nbconvert_exporter": "python",
   "pygments_lexer": "ipython3",
   "version": "3.10.8"
  }
 },
 "nbformat": 4,
 "nbformat_minor": 5
}
